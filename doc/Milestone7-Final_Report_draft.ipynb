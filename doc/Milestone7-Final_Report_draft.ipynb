{
 "cells": [
  {
   "cell_type": "markdown",
   "metadata": {},
   "source": [
    "# <center> __MET Significance Study__ </center>\n",
    "\n",
    "<center>By Julia Hinds</center>"
   ]
  },
  {
   "cell_type": "markdown",
   "metadata": {},
   "source": [
    "<img src=\"https://cds.cern.ch/record/39474/files/11465.jpeg?subformat=icon-1440\" width=\"20%\">\n",
    "<p style=\"text-align: right;\">Image from: https://cds.cern.ch/record/39474</p>"
   ]
  },
  {
   "cell_type": "markdown",
   "metadata": {},
   "source": [
    "---\n",
    "# Authors\n",
    "\n",
    "&#9989;  A list of authors and their affiliations\n",
    "\n",
    "- Julia Hinds (MSU, main code developer)\n",
    "- VV+VH Analysis group (CERN, CxAOD framework)"
   ]
  },
  {
   "cell_type": "markdown",
   "metadata": {},
   "source": [
    "---\n",
    "# Abstract\n",
    "\n",
    "&#9989;  A summary describing the high-level functionality and purpose of the software for a diverse, non-specialist audience\n",
    "- In order for us to be able to detect new physics in the ATLAS detector (which is a rare process - showing up as a small signal, or \"bump\", in our data), we want to minimize the background while maximizing the signal making it easier fo us to identify. We have several variables that describe an event or collision in the detector, and the signal would have a subtly different distribution in these variables to the background (which sometimes have to be teased out). Thus, optimising the selection of events which have certain restrictions (i.e. cuts) to some variables, could enhance the number of signal events selected compared to the background."
   ]
  },
  {
   "cell_type": "markdown",
   "metadata": {},
   "source": [
    "----\n",
    "# Statement of Need\n",
    "\n",
    "&#9989;  A clear statement of need that illustrates the purpose of the software\n",
    "\n",
    "- Missing transverse momentum,  𝐸𝑚𝑖𝑠𝑠𝑇  or MET, is used to detect and identify weakly interacting particles (most common: neutrinos). The significance separates events in which the reconstructed MET originates from these weakly interacting particles, or other sources (resolution and inefficiencies). An optimal cut in MET could provide insight on how to improve the signal to background ratio - or signal significance - making it easier to identify new physics in the ATLAS detector."
   ]
  },
  {
   "cell_type": "markdown",
   "metadata": {},
   "source": [
    "----\n",
    "# Installation instructions\n",
    "&#9989; There should be a clearly-stated list of dependencies. Ideally these should be handled with an automated package management solution.\n",
    "\n",
    "    Good: A package management file such as a Gemfile or package.json, requirements.txt file or equivalent\n",
    "    OK: A list of dependencies to install\n",
    "    Bad (not acceptable): Reliance on other software not listed by the authors\n",
    "    \n",
    "Instructions should also include directions for building automatic documentation. \n",
    "\n",
    "- There is a source file \"setup_env.sh\" that will download and setup the environment\n",
    "- The file \"remove_env.sh\" will deactivate the environment (or if the second block of code is uncommented, it will delete the environment)"
   ]
  },
  {
   "cell_type": "markdown",
   "metadata": {},
   "source": [
    "----\n",
    "# Unit Tests\n",
    "Authors are strongly encouraged to include an automated test suite covering the core functionality of their software.\n",
    "\n",
    "    Good: An automated test suite hooked up to an external service such as Travis-CI or similar\n",
    "    OK: Documented manual steps that can be followed to objectively check the expected functionality of the software (e.g., a sample input file to assert behavior)\n",
    "    Bad (not acceptable): No way for you the reviewer to objectively assess whether the software works\n",
    "    Other considerationsMentions\n",
    "\n",
    "&#9989;  This section of the report should include instructions on how to run the tests and interpret the results.  If possible make them runnable inside the notebook.\n",
    "\n",
    "- First, make sure you follow instructions in the README to properly setup the ROOT environment.\n",
    "- Then, go into the Tests/ folder\n",
    "- To run the testing script, type \"root myUnitTest.C\" into the terminal window\n",
    "- All of the test should run and pass."
   ]
  },
  {
   "cell_type": "markdown",
   "metadata": {},
   "source": [
    "----\n",
    "# Example usage\n",
    "&#9989;  The authors should include examples of how to use the software (ideally to solve real-world analysis problems).\n",
    "- The goal of this analysis is to determine if a MET Significance cut can bring a better sensitivity to the analysis and replace cuts that currently exist in the VV and VH channels."
   ]
  },
  {
   "cell_type": "markdown",
   "metadata": {},
   "source": [
    "---\n",
    "# Methodology\n",
    "\n",
    "&#9989;  A few paragraphs on how the final project matched up with your original proposal. Include how and why the project may differ to the submission guidelines.\n",
    "- The project matches the original proposal; however, there is still some work to be done before the ML can come into play."
   ]
  },
  {
   "cell_type": "markdown",
   "metadata": {},
   "source": [
    "---\n",
    "# Concluding Remarks\n",
    "\n",
    "&#9989;  A few paragraphs on what you learned and how the project reached your research goals.  Include your plans for future work."
   ]
  },
  {
   "cell_type": "markdown",
   "metadata": {},
   "source": [
    "----\n",
    "# Mentions\n",
    "\n",
    "&#9989;  Mentions (if applicable) of any ongoing research projects using the software or recent scholarly publications enabled by it.\n",
    "- This work is also for my PhD thesis and the analysis will also probably publish the results when the analysis concludes.\n"
   ]
  },
  {
   "cell_type": "markdown",
   "metadata": {},
   "source": [
    "----\n",
    "# References\n",
    "\n",
    "&#9989; A list of key references including a link to the software archive\n",
    "- The CxAOD production software can be found here: https://gitlab.cern.ch/CxAODFramework/CxAODReader_VVSemileptonic/-/tree/dev-hinds "
   ]
  },
  {
   "cell_type": "markdown",
   "metadata": {},
   "source": [
    "-----\n",
    "\n",
    "### Congratulations, you are done!\n",
    "\n",
    "Now, you just need to commit and push this report to your project git repository. "
   ]
  }
 ],
 "metadata": {
  "anaconda-cloud": {},
  "kernelspec": {
   "display_name": "Python 3 (ipykernel)",
   "language": "python",
   "name": "python3"
  },
  "language_info": {
   "codemirror_mode": {
    "name": "ipython",
    "version": 3
   },
   "file_extension": ".py",
   "mimetype": "text/x-python",
   "name": "python",
   "nbconvert_exporter": "python",
   "pygments_lexer": "ipython3",
   "version": "3.7.1"
  }
 },
 "nbformat": 4,
 "nbformat_minor": 1
}
