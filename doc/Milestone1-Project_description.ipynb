{
 "cells": [
  {
   "cell_type": "markdown",
   "metadata": {},
   "source": [
    "# <h1 style=\"font-size:3em\"><b><center> MET significance study for VV+VH final states in pp collisions at $\\sqrt(s) = 13$ TeV with the ATLAS detector </center></b></h1>\n",
    "\n",
    "<center>By Julia Hinds</center>"
   ]
  },
  {
   "cell_type": "markdown",
   "metadata": {},
   "source": [
    "<img src=\"https://cds.cern.ch/record/39474/files/11465.jpeg?subformat=icon-1440\" width=\"20%\">\n",
    "<p style=\"text-align: right;\">Image from: https://cds.cern.ch/record/39474</p>\n"
   ]
  },
  {
   "cell_type": "markdown",
   "metadata": {},
   "source": [
    "---\n",
    "# Goal, motivation, and questions"
   ]
  },
  {
   "cell_type": "markdown",
   "metadata": {},
   "source": [
    "- The overall goal of the project.\n",
    "    - Apply different cuts to a kinematic variable (here, MET Significance) and try to optimize the signal significance. Also apply machine learning techiques to see if it can improve from the \"by-hand\" method.\n",
    "- The core question(s) you are trying to address and why is (are) the importance.\n",
    "    - Is there an optimal cuts for 1, 2, 3, 4, and 5 TeV Z' signals for the VV and VH analysis?\n",
    "    - Missing transverse momentum, $E_{T}^{miss}$ or MET, is used to detect and identify weakly interacting particles (most common: neutrinos). The significance separates events in which the reconstructed MET originates from these weakly interacting particles, or other sources (resolution and inefficiencies). An optimal cut in MET could provide insight on how to improve the signal to background ratio - or signal significance - making it easier to identify new physics in the ATLAS detector.\n",
    "- What have others done in the area? What is the knowledge gap? How does that connect with your questions?\n",
    "    - It has not be done on this analysis (VV+VH) for the Run-2 data.\n",
    "    - It was considered but not extensively used in Run-1. We now have enough data to where this variable could potentially make a big difference in our signal selection.\n",
    "- Explain as if to someone outside your area of expertise. \n",
    "    - In order for us to be able to detect new physics in the ATLAS detector (which is a rare process - showing up as a small signal, or \"bump\", in our data), we want to minimize the background while maximizing the signal making it easier fo us to identify. We have several variables that describe an event or collision in the detector, and the signal would have a subtly different distribution in these variables to the background (which sometimes have to be teased out). Thus, optimising the selection of events which have certain restrictions (i.e. cuts) to some variables, could enhance the number of signal events selected compared to the background.\n",
    "- Explain how researchers use computation in this domain. \n",
    "    - We do not observe these collisions in the classical sense, but rather like electrical signals that are converted to data that we can use. From there we use several reconstructing methods to try to identify what was involved with in the collision. This is done with code and computation. \n",
    "    - Machine learning can be applied to determine the optimal cut.\n",
    "- Include references when appropriate. This is also true for later sections. \n",
    "    - https://arxiv.org/pdf/1808.02380.pdf\n",
    "    - https://arxiv.org/abs/2004.14636\n",
    "    - http://cdsweb.cern.ch/record/2630948/files/ATLAS-CONF-2018-038.pdf"
   ]
  },
  {
   "cell_type": "markdown",
   "metadata": {},
   "source": [
    "---\n",
    "# Program Description"
   ]
  },
  {
   "cell_type": "markdown",
   "metadata": {},
   "source": [
    "- How you will be addressing the questions you raised?\n",
    "  - What is the analysis pieline, workflow you will use?\n",
    "      - The data is formatted into ntuples (outside of the scope of this project) which is read into my analysis code. My first analysis code will make a 2D histogram of a discriminating variable vs MET significance, and then cut on this histogram. Next, I will apply this method to all signals we are interested in inverstigating. From there, I will use machine learning to find an optimal cut for each signal. \n",
    "  - In that pipeline/workflow, what programs you will be modifying or developing as part of your project? What language will you be using if not Python?\n",
    "      - I will be modifying a code to create a 2D histogram, then developing the code to apply cuts and use machine learning as well as performing significance calculations and displaying the results.\n",
    "      - C++ and ROOT will also be used\n",
    "- What components already exists and what components do you hope to add and/or improve as part of your research?\n",
    "    - Currently, the input data exists, but my selection/manipulation of this data is new. The entire project aligns well with my research and will add/improve. "
   ]
  },
  {
   "cell_type": "markdown",
   "metadata": {},
   "source": [
    "---\n",
    "# Deliverables and Timeline"
   ]
  },
  {
   "cell_type": "markdown",
   "metadata": {},
   "source": [
    "Timeline & Deliverables:\n",
    "- 1/27/2022 (Thurs) - Proposal (class) \n",
    "- 2/03/2022 (Thurs) - Project git repository and structure (class) ; 2D hist METSig vs m(VV) for VV \n",
    "- 2/10/2022 (Thurs) - Projection plots METSig vs N for VV (from 2D plots) for different cuts ; 2D hist METSig vs m(VV) for VH\n",
    "- 2/17/2022 (Thurs) - Stub functions and example code integration (With documentation) (class)\n",
    "- 2/24/2022 (Thurs) - Determine which ML algorithm to use and have basic understanding\n",
    "- 3/03/2022 (Thurs) - Unit Test integrated into project (class) ; Test basic ML\n",
    "- 3/10/2022 (Thurs) - Spring Break\n",
    "- 3/17/2022 (Thurs) - ML code created (and hopfully integrated) \n",
    "- 3/24/2022 (Thurs) - Code Draft (linting) (class) ; ML code preliminary tests\n",
    "- 3/31/2022 (Thurs) - Output results from ML\n",
    "- 4/07/2022 (Thurs) - Code Draft (final structure) (class) ; Well commented code added to git repo\n",
    "- 4/14/2022 (Thurs) - Draft of final project\n",
    "- 4/21/2022 (Thurs) - Final project presentation file (class)"
   ]
  },
  {
   "cell_type": "markdown",
   "metadata": {},
   "source": [
    "---\n",
    "# Anticipating Challenges  "
   ]
  },
  {
   "cell_type": "markdown",
   "metadata": {},
   "source": [
    "- Information/skills need to learn\n",
    "    - Machine learning (never used before)\n",
    "- Challenges\n",
    "    - Project is in C++ and ROOT mostly, but most ML is in python\n",
    "    - Still learning physics behind analysis"
   ]
  },
  {
   "cell_type": "markdown",
   "metadata": {},
   "source": [
    "---\n",
    "# References cited"
   ]
  },
  {
   "cell_type": "markdown",
   "metadata": {},
   "source": [
    "- ATLAS Collaboration, “Combination of Searches for Heavy Resonances Decaying into Bosonic and Leptonic Final States Using 36 Fb$^{-1}$ of Proton-Proton Collision Data at $\\sqrt{s} = 13$ TeV with the ATLAS Detector”\n",
    "- “Object-Based Missing Transverse Momentum Significance in the ATLAS Detector” [ATLAS], ATLAS-CONF-2018-038.1\n",
    "- ATLAS Collaboration, “Search for Heavy Diboson Resonances in Semileptonic Final States in $pp$ Collisions at $\\sqrt{s}=13$ TeV with the ATLAS Detector.”"
   ]
  },
  {
   "cell_type": "markdown",
   "metadata": {},
   "source": [
    "-----\n",
    "### Congratulations, you are done!\n",
    "\n",
    "Submit this report by uploading it to the `milestone` folder of your repository."
   ]
  },
  {
   "cell_type": "markdown",
   "metadata": {},
   "source": [
    "----\n",
    "\n",
    "# Appendix: Proposal Grading Rubric\n",
    "The following basic grading rubric was used last semester.  It may change slightly but should give an idea of what is considered important. \n",
    "\n",
    "    Grading Overall\n",
    "     5 points - Project title\n",
    "     5 points - Descriptive picture\n",
    "    20 points - Overview\n",
    "    30 points - Program Description\n",
    "    20 points - Project Goals / Timeline\n",
    "    15 points - Anticipating Challenges\n",
    "     5 points - Reference cited\n",
    "\n",
    "    Grading Rubric\n",
    "    -5 Leaving in instructions in report.\n",
    "    -5 Sloppy formatting\n",
    "    -5 missing required components in a section"
   ]
  }
 ],
 "metadata": {
  "anaconda-cloud": {},
  "kernelspec": {
   "display_name": "Python 3 (ipykernel)",
   "language": "python",
   "name": "python3"
  },
  "language_info": {
   "codemirror_mode": {
    "name": "ipython",
    "version": 3
   },
   "file_extension": ".py",
   "mimetype": "text/x-python",
   "name": "python",
   "nbconvert_exporter": "python",
   "pygments_lexer": "ipython3",
   "version": "3.7.1"
  }
 },
 "nbformat": 4,
 "nbformat_minor": 4
}
