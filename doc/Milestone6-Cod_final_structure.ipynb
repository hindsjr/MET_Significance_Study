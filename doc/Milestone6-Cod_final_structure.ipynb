{
 "cells": [
  {
   "cell_type": "markdown",
   "metadata": {},
   "source": [
    "In order to successfully complete this assignment you must:\n",
    "1. Complete your project proposal\n",
    "2. The assignment must be submitted to the `milestones` folder in the `cmse802-yourlastname` repository on or before **10pm Saturday (two days after this is made available)**.  Late assignment will receive <=80% of the grade."
   ]
  },
  {
   "cell_type": "markdown",
   "metadata": {},
   "source": [
    "# Rounding out your project"
   ]
  },
  {
   "cell_type": "markdown",
   "metadata": {},
   "source": [
    "In this last milestone project we will clean finish up our project structure to make it as easy as possible for others to use.  We have been doing pieces of this all semester but here we will add a few finishing touches to make the project complete. specifically I would like you to add the following:\n",
    "\n",
    "1. Licensing File\n",
    "2. Installation Instructions\n",
    "3. Jupyter Example"
   ]
  },
  {
   "cell_type": "markdown",
   "metadata": {},
   "source": [
    "---\n",
    "\n",
    "# 1. Licensing file\n",
    "\n",
    "As authors of software it is important to let people know how they can use our software.  The following article is a great resource for learning the types of terminology and logic used when talking about software License.  \n",
    "\n",
    "* https://journals.plos.org/ploscompbiol/article?id=10.1371/journal.pcbi.1002598\n",
    "\n",
    "Include a ```./LICENSE``` test file in your top directory. Select which license to use using the following website:\n",
    "\n",
    "* [https://choosealicense.com/](https://choosealicense.com/)\n",
    "\n",
    "Copy and paste your chosen license file into a file named ```./LICENSE```"
   ]
  },
  {
   "cell_type": "markdown",
   "metadata": {},
   "source": [
    "&#9989;**<font color=red>QUESTION:</font>** Why license did you pick? What are your considerations?"
   ]
  },
  {
   "cell_type": "markdown",
   "metadata": {},
   "source": [
    "I chose Apache License 2.0 because that is what CERN suggested for ATLAS in 2018 (the most recent metnioning of making the code open source)."
   ]
  },
  {
   "cell_type": "markdown",
   "metadata": {},
   "source": [
    "---\n",
    "\n",
    "# 2. Install instructions\n",
    "\n",
    "Your project needs to include clear installation instructions with all requirements.  These instructions can be included in your README.md file in the top directory.  \n",
    "\n",
    "I highly recommend you include instructions for creating a conda enviornment so that classmates are easily able to run your code. This means they need to temporarily set up their computer with the same settings as your system.  \n",
    "\n",
    "Ideally you want include a ```requirements.yml``` with your project so that other students and instructors can use the following commands to set up the environment:\n",
    "\n",
    "    conda env create --prefix ./envs --file requirements.yml\n",
    "    conda activate ./envs\n",
    "    \n",
    "The ```requirements.yml``` file can be created to \"copy\" your current enviornment by running the following command:\n",
    "\n",
    "    conda env export > environment.yml\n",
    "    \n",
    "Note, try to make your ```environment.yml``` file the minimum packages you will need to run your project.  **_Do not_** create an ```environment.yml``` file on your base anaconda environment as this will just install a lot of stuff that is not needed. A good way to figure out your base install is to create a new environment and add packages until your code works. For example:\n",
    "\n",
    "    conda create --prefix ./envs pytest pylint pdoc3 jupyter\n",
    "    conda activate ./envs\n",
    "    \n",
    "Now just use \"conda install\" and \"pip install\" to add all of your project dependencies until it starts working. For example may of you will want to include one or all of the following:\n",
    "\n",
    "    conda install numpy\n",
    "    conda install matplotlib\n",
    "    conda install scipy\n",
    "    conda install jupyter\n",
    "\n",
    "When you have it working run the ```conda env export``` command from above. To deactivate and delete your environment just run:\n",
    "\n",
    "    conda deactivate\n",
    "    rm -rf ./envs\n",
    "    \n",
    "That should be it!!!\n",
    "    "
   ]
  },
  {
   "cell_type": "markdown",
   "metadata": {},
   "source": [
    "&#9989;**<font color=red>QUESTION:</font>** How does your environment file look like? Paste the content of your environment file below.\n"
   ]
  },
  {
   "cell_type": "markdown",
   "metadata": {},
   "source": [
    "Currently working on creating a Docker Image so folks don't have to install ROOT locally."
   ]
  },
  {
   "cell_type": "markdown",
   "metadata": {},
   "source": [
    "---\n",
    "\n",
    "# 3. Jupyter Example\n",
    "\n",
    "Finally, include jupyter notebook(s) with example(s) in an obvious location. Have the example(s) describe and show how to use the software and show some results.  "
   ]
  },
  {
   "cell_type": "markdown",
   "metadata": {},
   "source": [
    "&#9989;**<font color=red>QUESTION:</font>** Do you have any Jupyter notebook with example? If so, put their names below and state their purposes. If not, explain why they are not needed.\n"
   ]
  },
  {
   "cell_type": "markdown",
   "metadata": {},
   "source": [
    "I don't have a Jupyter Notebook with an example (mostly because my code is written in C++), but I do have some notebooks for plotting specifically."
   ]
  },
  {
   "cell_type": "markdown",
   "metadata": {},
   "source": [
    "-----\n",
    "\n",
    "### Congratulations, you are done!\n",
    "\n",
    "Now, you just need to commit and push the project changes to your project git repository. "
   ]
  }
 ],
 "metadata": {
  "anaconda-cloud": {},
  "kernelspec": {
   "display_name": "Python 3 (ipykernel)",
   "language": "python",
   "name": "python3"
  },
  "language_info": {
   "codemirror_mode": {
    "name": "ipython",
    "version": 3
   },
   "file_extension": ".py",
   "mimetype": "text/x-python",
   "name": "python",
   "nbconvert_exporter": "python",
   "pygments_lexer": "ipython3",
   "version": "3.7.1"
  }
 },
 "nbformat": 4,
 "nbformat_minor": 4
}
