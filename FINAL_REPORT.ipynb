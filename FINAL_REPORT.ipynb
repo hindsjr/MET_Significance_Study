{
 "cells": [
  {
   "cell_type": "markdown",
   "metadata": {},
   "source": [
    "# <center> __MET Significance Study__ </center>\n",
    "\n",
    "<center>By Julia Hinds</center>"
   ]
  },
  {
   "cell_type": "markdown",
   "metadata": {},
   "source": [
    "<img src=\"https://cds.cern.ch/record/39474/files/11465.jpeg?subformat=icon-1440\" width=\"20%\">\n",
    "<p style=\"text-align: right;\">Image from: https://cds.cern.ch/record/39474</p>"
   ]
  },
  {
   "cell_type": "markdown",
   "metadata": {},
   "source": [
    "---\n",
    "# Authors\n",
    "\n",
    "\n",
    "**Julia Hinds** <br>\n",
    "main author, METSignificanceStudy analysis framework <br>\n",
    "Department of Physics and Astronomy <br>\n",
    "Michigan State University <br>\n",
    "East Lansing, MI <br>\n",
    "USA <br>\n",
    " \n",
    " \n",
    "**VV+VH Analysis group** <br>\n",
    "CxAOD framework (precursor to the project) <br>\n",
    "ATLAS Collaboration <br>\n",
    "CERN <br> \n",
    "Geneva, Switzerland<br>\n"
   ]
  },
  {
   "cell_type": "markdown",
   "metadata": {},
   "source": [
    "---\n",
    "# Abstract\n",
    "\n",
    "Paricle physics is the physics that probes the fundamental building blocks of nature. One way in which this is done, is by colliding particles near the speed of light. The European Organization for Nuclear Research (CERN) is the largest facility in the world that conducts this research. It is comprised of the worlds largest particle accelerator - the Large Hagdron Collider (LHC) - and four detectors along the LHC's path. The detector we are focusing on is the ATLAS Detector (A Toroidal LHC ApparatuS). Here, particles are collided at extremely high energies in hopes of discovering new physics.\n",
    "In order for us to be able to detect new physics in the ATLAS detector (which is a rare process - showing up as a small signal, or \"bump\", in our data), we want to minimize the background processes while maximizing the signal making it easier fo us to identify. We have several variables that describe an event or collision in the detector, and the signal would have a subtly different distribution in these variables to the background (which sometimes have to be teased out). Thus, optimising the selection of events which have certain restrictions (i.e. cuts) to some variables, could enhance the number of signal events selected compared to the background.\n",
    "Additionally, if an optimal cut is achieved, then it could be used to replace current cuts to the data to try to bring increased sensitivity to the entire analysis."
   ]
  },
  {
   "cell_type": "markdown",
   "metadata": {},
   "source": [
    "----\n",
    "# Statement of Need\n",
    "\n",
    "Missing transverse momentum,  $E^{T}_{miss}$  or MET, is used to detect and identify weakly interacting particles (most common: neutrinos). The significance separates events in which the reconstructed MET originates from these weakly interacting particles, or other sources (resolution and inefficiencies). An optimal cut in MET could provide insight on how to improve the signal to background ratio - or signal significance - making it easier to identify new physics in the ATLAS detector. This has not been investigated for either the VV or VH analysis, and could prove to be extremely useful for the 0-lepton channel in both analyses due to the fact both contain neutrinos in the final states."
   ]
  },
  {
   "cell_type": "markdown",
   "metadata": {},
   "source": [
    "----\n",
    "# Installation instructions\n",
    "\n",
    "To setup the ROOT environment\n",
    "\n",
    "```source setup_env.sh```\n",
    "\n",
    "\n",
    "To deactivate the environment\n",
    "\n",
    "```source remove_env.sh```\n",
    "\n",
    "**NOTE**: inside remove_env.sh contains information and commented code to completely remove the environment if desired. Please see the README for further information, or ```Example/EXAMPLE.md``` for informaion regarding setting up on CERN's computer system (if applicable)."
   ]
  },
  {
   "cell_type": "markdown",
   "metadata": {},
   "source": [
    "----\n",
    "# Unit Tests\n",
    "\n",
    "Inside ```Tests/myUnitTest.C``` contains code to test the signal significance calulation for the analysis. \n",
    "\n",
    "To run the tests, first make sure ROOT environment is activated. Then, \n",
    "``` root myUnitTest.C ```\n",
    "\n",
    "Please see ```Tests/TESTS.md``` for further information about the tests.\n",
    "\n",
    "Please see ```doc/Documentation.md``` for further information regarding issues with unit tests with C++ and ROOT."
   ]
  },
  {
   "cell_type": "markdown",
   "metadata": {},
   "source": [
    "----\n",
    "# Example usage\n",
    "\n",
    "Please see ```Example/EXAMPLE.md``` for information on running the code."
   ]
  },
  {
   "attachments": {},
   "cell_type": "markdown",
   "metadata": {},
   "source": [
    "---\n",
    "# Methodology\n",
    "\n",
    "The project matches closely with the original proposal. Unfortunately, due to a lot of verification required, the merging of the VH analysis (see ```doc/Documentation.md``` for more information), and issues with getting a local version of libraries needed - I did not make it to the ML aspect of the project. However, the first step in producing a window range in which the METSig cut improves the significance has been obtained (between 15-25 for the METSig).\n",
    "\n",
    "Information regarding to the issues I ran into are also described in ```doc/Documentation.md```.\n",
    "\n",
    "Please see ```Example/EXAMPLE.md``` for information on running the code."
   ]
  },
  {
   "attachments": {},
   "cell_type": "markdown",
   "metadata": {},
   "source": [
    "---\n",
    "# Concluding Remarks\n",
    "\n",
    "Throughout this project I have learned a lot regarding Python, C++, ROOT, unit testing, and overall creating an infrastructure and documentation. The most crucial skill I learned was the ability to produce documentation for the codes I write, and implementing commenting strategies to make sure the code is easily understood by anyone wishing to use it. Additionally, formatting the code such that is it easy to read is a useful skill I was able to further develop. \n",
    "\n",
    "Although some aspects of the project were not fully developed, I learned a lot in the process. For example, I’ve made simple Docker Images – so trying to produce a more robust version required a deep dive into online resources. While I unfortunately did not work, I learned a lot about what is required to make a more complicated one. \n",
    "\n",
    "This project aligned very well with my research thesis. I plan on continuing this work into the summer in hoped I can use ML to obtain an optimal METSig cut, implement it, and then bring an increase in sensitivity to my specific area of the analysis (both for VV and VH). The results from my PhD analysis (and thus of this work) will be published with the full analysis hopefully by the end of 2022."
   ]
  },
  {
   "cell_type": "markdown",
   "metadata": {},
   "source": [
    "----\n",
    "# Mentions\n",
    "\n",
    "N/A"
   ]
  },
  {
   "cell_type": "markdown",
   "metadata": {},
   "source": [
    "----\n",
    "# References\n",
    "\n",
    "[1] METSignificanceStudy Analysis Framework. https://gitlab.msu.edu/hindsju1/metsignificancestudy/-/tree/main\n",
    "\n",
    "[2] CxAOD Reader Framework. https://gitlab.cern.ch/CxAODFramework/CxAODReader_VVSemileptonic/-/tree/dev-hinds\n",
    "\n",
    "[3] Search for heavy diboson resonances in semileptonic final states in *pp* collisions at $\\sqrt{s}= 13$ TeV with the ATLAS detector. https://arxiv.org/abs/2004.14636 "
   ]
  }
 ],
 "metadata": {
  "anaconda-cloud": {},
  "kernelspec": {
   "display_name": "Python 3 (ipykernel)",
   "language": "python",
   "name": "python3"
  },
  "language_info": {
   "codemirror_mode": {
    "name": "ipython",
    "version": 3
   },
   "file_extension": ".py",
   "mimetype": "text/x-python",
   "name": "python",
   "nbconvert_exporter": "python",
   "pygments_lexer": "ipython3",
   "version": "3.7.1"
  }
 },
 "nbformat": 4,
 "nbformat_minor": 1
}
